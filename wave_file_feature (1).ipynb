{
  "nbformat": 4,
  "nbformat_minor": 0,
  "metadata": {
    "colab": {
      "provenance": []
    },
    "kernelspec": {
      "name": "python3",
      "display_name": "Python 3"
    },
    "language_info": {
      "name": "python"
    }
  },
  "cells": [
    {
      "cell_type": "code",
      "execution_count": null,
      "metadata": {
        "id": "ZFNTHuaNDiLM"
      },
      "outputs": [],
      "source": [
        "\n",
        "# -*- coding: utf-8 -*-\n",
        "\"\"\"\n",
        "Created on Fri Oct 12 11:58:12 2018\n",
        "@author: cvuppalapati\n",
        "\"\"\"\n",
        "import os\n",
        "import matplotlib\n",
        "matplotlib.use('Agg') # No pictures displayed \n",
        "import pylab\n",
        "import librosa\n",
        "import librosa.display\n",
        "import numpy as np\n",
        "import sys\n",
        "np.set_printoptions(threshold=sys.maxsize)\n",
        "## sig, fs = librosa.load('C:\\\\Hanumayamma\\\\FEMH\\\\FEMH Data\\\\Training Dataset\\\\\n",
        "Normal\\\\002.wav')   \n",
        "sig, fs = librosa.load('002.wav')   \n",
        "# make pictures name \n",
        "save_path = 'test.png'\n",
        "pylab.axis('off') # no axis\n",
        "pylab.axes([0., 0., 1., 1.], frameon=False, xticks=[], yticks=[]) # Remove the \n",
        "white edge\n",
        "S = librosa.feature.melspectrogram(y=sig, sr=fs)\n",
        "#https://stackoverflow.com/questions/36680402/typeerror-only-length-1-arrays-can-\n",
        "be-converted-to-python-scalars-while-plot-sh/42350817\n",
        "#vectorize\n",
        "#print(np.vectorize(S))\n",
        "librosa.display.specshow(librosa.power_to_db(S, ref=np.max))\n",
        "pylab.savefig(save_path, bbox_inches=None, pad_inches=0)\n",
        "pylab.close()\n"
      ]
    }
  ]
}